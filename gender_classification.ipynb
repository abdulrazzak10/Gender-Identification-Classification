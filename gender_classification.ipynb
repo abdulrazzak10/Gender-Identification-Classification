{
 "cells": [
  {
   "cell_type": "markdown",
   "metadata": {},
   "source": [
    "# Gender Identification Classification\n",
    "\n",
    "## Student Identification\n",
    "- **Name**: Abdul Razzak Ghouri\n",
    "- **Student ID**: FA22BSCS0097\n",
    "- **Assignment**: AI Assignment 3\n",
    "- **Date**: May 26, 2025\n",
    "\n",
    "## Overview\n",
    "This notebook implements a gender identification classification problem using supervised machine learning for an Artificial Intelligence course assignment. It uses a synthetic dataset with features (height, weight, voice pitch) to predict gender (male/female). Two classification algorithms, Logistic Regression and Random Forest, are trained and compared based on their accuracy scores."
   ]
  },
  {
   "cell_type": "markdown",
   "metadata": {},
   "source": [
    "## 1. Import Libraries\n",
    "\n",
    "Import necessary Python libraries for data manipulation, model training, and evaluation."
   ]
  },
  {
   "cell_type": "code",
   "execution_count": 1,
   "metadata": {},
   "outputs": [],
   "source": [
    "import numpy as np\n",
    "import pandas as pd\n",
    "from sklearn.model_selection import train_test_split\n",
    "from sklearn.linear_model import LogisticRegression\n",
    "from sklearn.ensemble import RandomForestClassifier\n",
    "from sklearn.metrics import accuracy_score\n",
    "from sklearn.preprocessing import StandardScaler"
   ]
  },
  {
   "cell_type": "markdown",
   "metadata": {},
   "source": [
    "## 2. Create Synthetic Dataset\n",
    "\n",
    "Generate a synthetic dataset with 1000 samples (500 male, 500 female) using height, weight, and voice pitch as features. A random seed ensures reproducibility."
   ]
  },
  {
   "cell_type": "code",
   "execution_count": 2,
   "metadata": {},
   "outputs": [],
   "source": [
    "np.random.seed(42)\n",
    "n_samples = 1000"
   ]
  },
  {
   "cell_type": "code",
   "execution_count": 3,
   "metadata": {},
   "outputs": [],
   "source": [
    "data = {\n",
    "    'height': np.concatenate([np.random.normal(175, 8, n_samples//2), np.random.normal(162, 7, n_samples//2)]),\n",
    "    'weight': np.concatenate([np.random.normal(80, 10, n_samples//2), np.random.normal(60, 8, n_samples//2)]),\n",
    "    'voice_pitch': np.concatenate([np.random.normal(120, 20, n_samples//2), np.random.normal(200, 25, n_samples//2)]),\n",
    "    'gender': ['male'] * (n_samples//2) + ['female'] * (n_samples//2)\n",
    "}"
   ]
  },
  {
   "cell_type": "markdown",
   "metadata": {},
   "source": [
    "## 3. Data Preprocessing\n",
    "\n",
    "Convert the dataset into a DataFrame and encode gender as binary (0 for male, 1 for female). Select features and target variable."
   ]
  },
  {
   "cell_type": "code",
   "execution_count": 4,
   "metadata": {},
   "outputs": [],
   "source": [
    "df = pd.DataFrame(data)"
   ]
  },
  {
   "cell_type": "code",
   "execution_count": 5,
   "metadata": {},
   "outputs": [],
   "source": [
    "df['gender'] = df['gender'].map({'male': 0, 'female': 1})"
   ]
  },
  {
   "cell_type": "code",
   "execution_count": 6,
   "metadata": {},
   "outputs": [],
   "source": [
    "X = df[['height', 'weight', 'voice_pitch']]\n",
    "y = df['gender']"
   ]
  },
  {
   "cell_type": "markdown",
   "metadata": {},
   "source": [
    "## 4. Train-Test Split\n",
    "\n",
    "Split the dataset into 80% training and 20% testing sets."
   ]
  },
  {
   "cell_type": "code",
   "execution_count": 7,
   "metadata": {},
   "outputs": [],
   "source": [
    "X_train, X_test, y_train, y_test = train_test_split(X, y, test_size=0.2, random_state=42)"
   ]
  },
  {
   "cell_type": "markdown",
   "metadata": {},
   "source": [
    "## 5. Feature Scaling\n",
    "\n",
    "Standardize features to have mean 0 and variance 1 for better model performance."
   ]
  },
  {
   "cell_type": "code",
   "execution_count": 8,
   "metadata": {},
   "outputs": [],
   "source": [
    "scaler = StandardScaler()\n",
    "X_train = scaler.fit_transform(X_train)\n",
    "X_test = scaler.transform(X_test)"
   ]
  },
  {
   "cell_type": "markdown",
   "metadata": {},
   "source": [
    "## 6. Train Logistic Regression Model\n",
    "\n",
    "Train a Logistic Regression model and calculate its accuracy on the test set."
   ]
  },
  {
   "cell_type": "code",
   "execution_count": 10,
   "metadata": {},
   "outputs": [],
   "source": [
    "lr_model = LogisticRegression(random_state=42)\n",
    "lr_model.fit(X_train, y_train)\n",
    "lr_predictions = lr_model.predict(X_test)\n",
    "lr_accuracy = accuracy_score(y_test, lr_predictions)"
   ]
  },
  {
   "cell_type": "markdown",
   "metadata": {},
   "source": [
    "## 7. Train Random Forest Model\n",
    "\n",
    "Train a Random Forest model with 100 trees and calculate its accuracy on the test set."
   ]
  },
  {
   "cell_type": "code",
   "execution_count": 11,
   "metadata": {},
   "outputs": [],
   "source": [
    "rf_model = RandomForestClassifier(n_estimators=100, random_state=42)\n",
    "rf_model.fit(X_train, y_train)\n",
    "rf_predictions = rf_model.predict(X_test)\n",
    "rf_accuracy = accuracy_score(y_test, rf_predictions)"
   ]
  },
  {
   "cell_type": "markdown",
   "metadata": {},
   "source": [
    "## 8. Evaluate and Compare Models\n",
    "\n",
    "Print the accuracy scores of both models and determine which performed better."
   ]
  },
  {
   "cell_type": "code",
   "execution_count": 12,
   "metadata": {},
   "outputs": [
    {
     "name": "stdout",
     "output_type": "stream",
     "text": [
      "Logistic Regression Accuracy: 0.98\n",
      "Random Forest Accuracy: 0.97\n"
     ]
    }
   ],
   "source": [
    "print(f\"Logistic Regression Accuracy: {lr_accuracy:.2f}\")\n",
    "print(f\"Random Forest Accuracy: {rf_accuracy:.2f}\")"
   ]
  },
  {
   "cell_type": "code",
   "execution_count": 13,
   "metadata": {},
   "outputs": [
    {
     "name": "stdout",
     "output_type": "stream",
     "text": [
      "Logistic Regression performed better.\n"
     ]
    }
   ],
   "source": [
    "if lr_accuracy > rf_accuracy:\n",
    "    print(\"Logistic Regression performed better.\")\n",
    "else:\n",
    "    print(\"Random Forest performed better.\")"
   ]
  },
  {
   "cell_type": "markdown",
   "metadata": {},
   "source": [
    "## 9. Conclusion\n",
    "\n",
    "Logistic Regression achieved a higher accuracy (0.98) compared to Random Forest (0.97) on the test set. This suggests that the relationship between the features (height, weight, voice pitch) and gender is largely linear, which Logistic Regression handles effectively. Random Forest, while robust for non-linear data, may have slightly overfit or been less effective due to the simplicity of the dataset."
   ]
  }
 ],
 "metadata": {
  "kernelspec": {
   "display_name": "Python 3 (ipykernel)",
   "language": "python",
   "name": "python3"
  },
  "language_info": {
   "codemirror_mode": {
    "name": "ipython",
    "version": 3
   },
   "file_extension": ".py",
   "mimetype": "text/x-python",
   "name": "python",
   "nbconvert_exporter": "python",
   "pygments_lexer": "ipython3",
   "version": "3.13.3"
  }
 },
 "nbformat": 4,
 "nbformat_minor": 5
}
